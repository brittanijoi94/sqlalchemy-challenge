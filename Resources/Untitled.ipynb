{
 "cells": [
  {
   "cell_type": "code",
   "execution_count": 1,
   "id": "b396b7cb",
   "metadata": {},
   "outputs": [],
   "source": [
    "from sqlalchemy.ext.automap import automap_base\n",
    "from sqlalchemy.orm import Session\n",
    "from sqlalchemy import create_engine, func\n",
    "import datetime as dt\n",
    "from flask import Flask, jsonify"
   ]
  },
  {
   "cell_type": "code",
   "execution_count": 12,
   "id": "973cc2de",
   "metadata": {},
   "outputs": [],
   "source": [
    "db_path = \"hawaii.sqlite\"\n"
   ]
  },
  {
   "cell_type": "code",
   "execution_count": 14,
   "id": "5bc71085",
   "metadata": {},
   "outputs": [],
   "source": [
    "engine = create_engine(f'sqlite:///{db_path}')\n",
    "\n",
    "Base = automap_base()\n",
    "Base.prepare(engine, reflect=True)"
   ]
  },
  {
   "cell_type": "code",
   "execution_count": 15,
   "id": "6250ffad",
   "metadata": {},
   "outputs": [],
   "source": [
    "Measurement = Base.classes.measurement\n",
    "Station = Base.classes.station"
   ]
  },
  {
   "cell_type": "code",
   "execution_count": 16,
   "id": "532ff07f",
   "metadata": {},
   "outputs": [],
   "source": [
    "app = Flask(__name__)"
   ]
  },
  {
   "cell_type": "code",
   "execution_count": 17,
   "id": "f0f45ddf",
   "metadata": {},
   "outputs": [],
   "source": [
    "@app.route(\"/\")\n",
    "def welcome():\n",
    "    \"\"\"List all available api routes.\"\"\"\n",
    "    return (\n",
    "        f\"Precipitation: /api/v1.0/precipitation<br/>\"\n",
    "        f\"List of Stations: /api/v1.0/stations<br/>\"\n",
    "        f\"Temperature for one year: /api/v1.0/tobs<br/>\"\n",
    "        f\"Temperature stat from the start date(yyyy-mm-dd): /api/v1.0/yyyy-mm-dd<br/>\"\n",
    "        f\"Temperature stat from start to end dates(yyyy-mm-dd): /api/v1.0/yyyy-mm-dd/yyyy-mm-dd\"\n",
    "    )"
   ]
  },
  {
   "cell_type": "code",
   "execution_count": 18,
   "id": "f0dc50c1",
   "metadata": {},
   "outputs": [],
   "source": [
    "@app.route('/api/v1.0/<start>')\n",
    "def get_t_start(start):\n",
    "    filter(Measurement.date >= start).all()\n",
    "session = Session(engine)\n",
    "queryresult = session.query(func.min(Measurement.tobs), func.avg(Measurement.tobs), func.max(Measurement.tobs)).\\\n",
    "session.close()"
   ]
  },
  {
   "cell_type": "code",
   "execution_count": 20,
   "id": "7e4e62c1",
   "metadata": {},
   "outputs": [
    {
     "name": "stdout",
     "output_type": "stream",
     "text": [
      "None\n"
     ]
    }
   ],
   "source": [
    "print(queryresult)"
   ]
  },
  {
   "cell_type": "code",
   "execution_count": 10,
   "id": "3702fc53",
   "metadata": {},
   "outputs": [
    {
     "ename": "TypeError",
     "evalue": "'NoneType' object is not iterable",
     "output_type": "error",
     "traceback": [
      "\u001b[0;31m---------------------------------------------------------------------------\u001b[0m",
      "\u001b[0;31mTypeError\u001b[0m                                 Traceback (most recent call last)",
      "\u001b[0;32m<ipython-input-10-4030b66a3c93>\u001b[0m in \u001b[0;36m<module>\u001b[0;34m\u001b[0m\n\u001b[1;32m      1\u001b[0m \u001b[0mtobsall\u001b[0m \u001b[0;34m=\u001b[0m \u001b[0;34m[\u001b[0m\u001b[0;34m]\u001b[0m\u001b[0;34m\u001b[0m\u001b[0;34m\u001b[0m\u001b[0m\n\u001b[0;32m----> 2\u001b[0;31m \u001b[0;32mfor\u001b[0m \u001b[0mmin\u001b[0m\u001b[0;34m,\u001b[0m\u001b[0mavg\u001b[0m\u001b[0;34m,\u001b[0m\u001b[0mmax\u001b[0m \u001b[0;32min\u001b[0m \u001b[0mqueryresult\u001b[0m\u001b[0;34m:\u001b[0m\u001b[0;34m\u001b[0m\u001b[0;34m\u001b[0m\u001b[0m\n\u001b[0m\u001b[1;32m      3\u001b[0m    \u001b[0mtobs_dict\u001b[0m \u001b[0;34m=\u001b[0m \u001b[0;34m{\u001b[0m\u001b[0;34m}\u001b[0m\u001b[0;34m\u001b[0m\u001b[0;34m\u001b[0m\u001b[0m\n\u001b[1;32m      4\u001b[0m    \u001b[0mtobs_dict\u001b[0m\u001b[0;34m[\u001b[0m\u001b[0;34m\"Min\"\u001b[0m\u001b[0;34m]\u001b[0m \u001b[0;34m=\u001b[0m \u001b[0mmin\u001b[0m\u001b[0;34m\u001b[0m\u001b[0;34m\u001b[0m\u001b[0m\n\u001b[1;32m      5\u001b[0m    \u001b[0mtobs_dict\u001b[0m\u001b[0;34m[\u001b[0m\u001b[0;34m\"Average\"\u001b[0m\u001b[0;34m]\u001b[0m \u001b[0;34m=\u001b[0m \u001b[0mavg\u001b[0m\u001b[0;34m\u001b[0m\u001b[0;34m\u001b[0m\u001b[0m\n",
      "\u001b[0;31mTypeError\u001b[0m: 'NoneType' object is not iterable"
     ]
    }
   ],
   "source": [
    " tobsall = []\n",
    "for min,avg,max in queryresult:\n",
    "    tobs_dict = {}\n",
    "    tobs_dict[\"Min\"] = min\n",
    "    tobs_dict[\"Average\"] = avg\n",
    "    tobs_dict[\"Max\"] = max\n",
    "    tobsall.append(tobs_dict)\n",
    "\n",
    "return jsonify(tobsall)"
   ]
  },
  {
   "cell_type": "code",
   "execution_count": null,
   "id": "17b094f0",
   "metadata": {},
   "outputs": [],
   "source": [
    "@app.route('/api/v1.0/<start>/<stop>')\n",
    "def get_t_start_stop(start,stop):\n",
    "    filter(Measurement.date >= start).filter(Measurement.date <= stop).all()\n",
    "session = Session(engine)\n",
    "queryresult = session.query(func.min(Measurement.tobs), func.avg(Measurement.tobs), func.max(Measurement.tobs)).\\\n",
    "        \n",
    "session.close()"
   ]
  },
  {
   "cell_type": "code",
   "execution_count": null,
   "id": "d9a08e32",
   "metadata": {},
   "outputs": [],
   "source": [
    " tobsall = []\n",
    "for min,avg,max in queryresult:\n",
    "    tobs_dict = {}\n",
    "    tobs_dict[\"Min\"] = min\n",
    "    tobs_dict[\"Average\"] = avg\n",
    "    tobs_dict[\"Max\"] = max\n",
    "    tobsall.append(tobs_dict)\n",
    "\n",
    "return jsonify(tobsall)"
   ]
  },
  {
   "cell_type": "code",
   "execution_count": null,
   "id": "d511b166",
   "metadata": {},
   "outputs": [],
   "source": [
    "@app.route('/api/v1.0/tobs')\n",
    "def tobs():\n",
    "    session = Session(engine)\n",
    "    lateststr = session.query(Measurement.date).order_by(Measurement.date.desc()).first()[0]\n",
    "    latestdate = dt.datetime.strptime(lateststr, '%Y-%m-%d')\n",
    "    querydate = dt.date(latestdate.year -1, latestdate.month, latestdate.day)\n",
    "    sel = [Measurement.date,Measurement.tobs]\n",
    "    queryresult = session.query(*sel).filter(Measurement.date >= querydate).all()\n",
    "    session.close()"
   ]
  },
  {
   "cell_type": "code",
   "execution_count": null,
   "id": "fedf2b3c",
   "metadata": {},
   "outputs": [],
   "source": [
    "tobsall = []\n",
    "for date, tobs in queryresult:\n",
    "    tobs_dict = {}\n",
    "    tobs_dict[\"Date\"] = date\n",
    "    tobs_dict[\"Tobs\"] = tobs\n",
    "    tobsall.append(tobs_dict)\n",
    "return jsonify(tobsall)"
   ]
  },
  {
   "cell_type": "code",
   "execution_count": null,
   "id": "e9220db5",
   "metadata": {},
   "outputs": [],
   "source": [
    "@app.route('/api/v1.0/stations')\n",
    "def stations():\n",
    "    session = Session(engine)\n",
    "    sel = [Station.station,Station.name,Station.latitude,Station.longitude,Station.elevation]\n",
    "    queryresult = session.query(*sel).all()\n",
    "    session.close()"
   ]
  },
  {
   "cell_type": "code",
   "execution_count": null,
   "id": "9a86ab21",
   "metadata": {},
   "outputs": [],
   "source": [
    "stations = []\n",
    "for station,name,lat,lon,el in queryresult:\n",
    "    station_dict = {}\n",
    "    station_dict[\"Station\"] = station\n",
    "    station_dict[\"Name\"] = name\n",
    "    station_dict[\"Lat\"] = lat\n",
    "    station_dict[\"Lon\"] = lon\n",
    "    station_dict[\"Elevation\"] = el\n",
    "    stations.append(station_dict)\n",
    "\n",
    "return jsonify(stations)"
   ]
  },
  {
   "cell_type": "code",
   "execution_count": null,
   "id": "026a56b4",
   "metadata": {},
   "outputs": [],
   "source": [
    "@app.route('/api/v1.0/precipitation')\n",
    "def precipitation():\n",
    "    session = Session(engine)\n",
    "    sel = [Measurement.date,Measurement.prcp]\n",
    "    queryresult = session.query(*sel).all()\n",
    "    session.close()"
   ]
  },
  {
   "cell_type": "code",
   "execution_count": null,
   "id": "a652b266",
   "metadata": {},
   "outputs": [],
   "source": [
    "precipitation = []\n",
    "for date, prcp in queryresult:\n",
    "    prcp_dict = {}\n",
    "    prcp_dict[\"Date\"] = date\n",
    "    prcp_dict[\"Precipitation\"] = prcp\n",
    "    precipitation.append(prcp_dict)\n",
    "\n",
    "return jsonify(precipitation)"
   ]
  },
  {
   "cell_type": "code",
   "execution_count": null,
   "id": "dc4cf5ed",
   "metadata": {},
   "outputs": [],
   "source": [
    "if __name__ == '__main__':\n",
    "    app.run(debug=True)"
   ]
  },
  {
   "cell_type": "code",
   "execution_count": null,
   "id": "c9584bd4",
   "metadata": {},
   "outputs": [],
   "source": []
  }
 ],
 "metadata": {
  "kernelspec": {
   "display_name": "Python 3",
   "language": "python",
   "name": "python3"
  },
  "language_info": {
   "codemirror_mode": {
    "name": "ipython",
    "version": 3
   },
   "file_extension": ".py",
   "mimetype": "text/x-python",
   "name": "python",
   "nbconvert_exporter": "python",
   "pygments_lexer": "ipython3",
   "version": "3.8.8"
  }
 },
 "nbformat": 4,
 "nbformat_minor": 5
}
