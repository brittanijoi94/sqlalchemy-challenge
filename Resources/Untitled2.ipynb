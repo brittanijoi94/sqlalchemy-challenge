{
 "cells": [
  {
   "cell_type": "code",
   "execution_count": 1,
   "id": "451961f5",
   "metadata": {},
   "outputs": [],
   "source": [
    "import numpy as np\n",
    "\n",
    "import sqlalchemy\n",
    "from sqlalchemy.ext.automap import automap_base\n",
    "from sqlalchemy.orm import Session\n",
    "from sqlalchemy import create_engine, func\n",
    "\n",
    "from flask import Flask, jsonify\n",
    "\n",
    "import datetime as dt\n",
    "from dateutil.relativedelta import relativedelta"
   ]
  },
  {
   "cell_type": "code",
   "execution_count": 2,
   "id": "5bdde896",
   "metadata": {},
   "outputs": [],
   "source": [
    "engine = create_engine(\"sqlite:///hawaii.sqlite\")\n"
   ]
  },
  {
   "cell_type": "code",
   "execution_count": 3,
   "id": "3931f57b",
   "metadata": {},
   "outputs": [],
   "source": [
    "Base = automap_base()\n",
    "Base.prepare(engine, reflect=True)"
   ]
  },
  {
   "cell_type": "code",
   "execution_count": 4,
   "id": "7b16a26d",
   "metadata": {},
   "outputs": [],
   "source": [
    "Measurement = Base.classes.measurement\n",
    "Station = Base.classes.station"
   ]
  },
  {
   "cell_type": "code",
   "execution_count": 5,
   "id": "cb04532f",
   "metadata": {},
   "outputs": [],
   "source": [
    "app = Flask(__name__,static_url_path='/Images/surfs-up.png')\n"
   ]
  },
  {
   "cell_type": "code",
   "execution_count": 6,
   "id": "7978b621",
   "metadata": {},
   "outputs": [],
   "source": [
    "@app.route(\"/\")\n",
    "def welcome():\n",
    "    \"\"\"List all available api routes.\"\"\"\n",
    "    return (\n",
    "        f\"<h1>Welcome to the Climate App API!</h1>\"\n",
    "        f\"<h1>Step 2 - Climate App</h1>\"\n",
    "        f\"This is a Flask API for Climate Analysis .<br/><br/><br/>\"\n",
    "        f\" <img width='600' src='https://www.surfertoday.com/images/stories/surfingsport.jpg'/ >\"\n",
    "        f\"<h2>Here are the available routes:</h2>\"\n",
    "        f\"/api/v1.0/precipitation<br/>\"\n",
    "        f\"/api/v1.0/stations<br/>\"\n",
    "        f\"/api/v1.0/tobs<br/>\"\n",
    "        f\"/api/v1.0/start<br/>\"\n",
    "        f\"/api/v1.0/start/end<br/>\"\n",
    "\n",
    "        f\"<h2>Here you can get the hyperlinked routes list click the link to see the pages:</h2>\"\n",
    "        f\"<ol><li><a href=http://127.0.0.1:5000/api/v1.0/precipitation>\"\n",
    "        f\"JSON list of precipitation amounts by date for the most recent year of data available</a></li><br/><br/>\"\n",
    "        f\"<li><a href=http://127.0.0.1:5000/api/v1.0/stations>\"\n",
    "        f\"JSON list of weather stations and their details</a></li><br/><br/>\"\n",
    "        f\"<li><a href=http://127.0.0.1:5000/api/v1.0/tobs>\"\n",
    "        f\"JSON list of the last 12 months of recorded temperatures</a></li><br/><br/>\"\n",
    "        f\"<li><a href=http://127.0.0.1:5000/api/v1.0/2017-08-23>\"\n",
    "        f\"When given the start date (YYYY-MM-DD), calculates the minimum, average, and maximum temperature for all dates greater than and equal to the start date</a></li><br/><br/>\"\n",
    "        f\"<li><a href=http://127.0.0.1:5000/api/v1.0/2016-08-23/2017-08-23>\"\n",
    "        f\"When given the start and the end date (YYYY-MM-DD), calculate the minimum, average, and maximum temperature for dates between the start and end date</a></li></ol><br/>\"\n",
    "       \n",
    "    )"
   ]
  },
  {
   "cell_type": "code",
   "execution_count": 7,
   "id": "bde7e39a",
   "metadata": {},
   "outputs": [],
   "source": [
    "@app.route(\"/api/v1.0/precipitation\")\n",
    "def precipitation():\n",
    "    session = Session(engine)\n",
    "\n",
    "    last_measurement_data_point_tuple = session.query(\n",
    "        Measurement.date).order_by(Measurement.date.desc()).first()\n",
    "    (latest_date, ) = last_measurement_data_point_tuple\n",
    "    latest_date = dt.datetime.strptime(latest_date, '%Y-%m-%d')\n",
    "    latest_date = latest_date.date()\n",
    "    date_year_ago = latest_date - relativedelta(years=1)\n",
    "\n",
    "    data_from_last_year = session.query(Measurement.date, Measurement.prcp).filter(\n",
    "        Measurement.date >= date_year_ago).all()\n",
    "\n",
    "    session.close()"
   ]
  },
  {
   "cell_type": "code",
   "execution_count": 9,
   "id": "0e921954",
   "metadata": {},
   "outputs": [
    {
     "ename": "NameError",
     "evalue": "name 'data_from_last_year' is not defined",
     "output_type": "error",
     "traceback": [
      "\u001b[0;31m---------------------------------------------------------------------------\u001b[0m",
      "\u001b[0;31mNameError\u001b[0m                                 Traceback (most recent call last)",
      "\u001b[0;32m<ipython-input-9-7126780b7386>\u001b[0m in \u001b[0;36m<module>\u001b[0;34m\u001b[0m\n\u001b[1;32m      1\u001b[0m \u001b[0mall_precipication\u001b[0m \u001b[0;34m=\u001b[0m \u001b[0;34m[\u001b[0m\u001b[0;34m]\u001b[0m\u001b[0;34m\u001b[0m\u001b[0;34m\u001b[0m\u001b[0m\n\u001b[0;32m----> 2\u001b[0;31m \u001b[0;32mfor\u001b[0m \u001b[0mdate\u001b[0m\u001b[0;34m,\u001b[0m \u001b[0mprcp\u001b[0m \u001b[0;32min\u001b[0m \u001b[0mdata_from_last_year\u001b[0m\u001b[0;34m:\u001b[0m\u001b[0;34m\u001b[0m\u001b[0;34m\u001b[0m\u001b[0m\n\u001b[0m\u001b[1;32m      3\u001b[0m         \u001b[0;32mif\u001b[0m \u001b[0mprcp\u001b[0m \u001b[0;34m!=\u001b[0m \u001b[0;32mNone\u001b[0m\u001b[0;34m:\u001b[0m\u001b[0;34m\u001b[0m\u001b[0;34m\u001b[0m\u001b[0m\n\u001b[1;32m      4\u001b[0m             \u001b[0mprecip_dict\u001b[0m \u001b[0;34m=\u001b[0m \u001b[0;34m{\u001b[0m\u001b[0;34m}\u001b[0m\u001b[0;34m\u001b[0m\u001b[0;34m\u001b[0m\u001b[0m\n\u001b[1;32m      5\u001b[0m             \u001b[0mprecip_dict\u001b[0m\u001b[0;34m[\u001b[0m\u001b[0mdate\u001b[0m\u001b[0;34m]\u001b[0m \u001b[0;34m=\u001b[0m \u001b[0mprcp\u001b[0m\u001b[0;34m\u001b[0m\u001b[0;34m\u001b[0m\u001b[0m\n",
      "\u001b[0;31mNameError\u001b[0m: name 'data_from_last_year' is not defined"
     ]
    }
   ],
   "source": [
    "all_precipication = []\n",
    "for date, prcp in data_from_last_year:\n",
    "        if prcp != None:\n",
    "            precip_dict = {}\n",
    "            precip_dict[date] = prcp\n",
    "            all_precipication.append(precip_dict)\n",
    "return jsonify(all_precipication)"
   ]
  },
  {
   "cell_type": "code",
   "execution_count": null,
   "id": "441d59df",
   "metadata": {},
   "outputs": [],
   "source": []
  }
 ],
 "metadata": {
  "kernelspec": {
   "display_name": "Python 3",
   "language": "python",
   "name": "python3"
  },
  "language_info": {
   "codemirror_mode": {
    "name": "ipython",
    "version": 3
   },
   "file_extension": ".py",
   "mimetype": "text/x-python",
   "name": "python",
   "nbconvert_exporter": "python",
   "pygments_lexer": "ipython3",
   "version": "3.8.8"
  }
 },
 "nbformat": 4,
 "nbformat_minor": 5
}
